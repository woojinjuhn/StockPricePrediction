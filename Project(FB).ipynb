{
  "cells": [
    {
      "cell_type": "code",
      "source": [
        "!pip install prophet"
      ],
      "metadata": {
        "colab": {
          "base_uri": "https://localhost:8080/"
        },
        "id": "v6_OC9YMbVHf",
        "outputId": "f9c65272-11b6-4e92-85d6-441b1ab33a14"
      },
      "id": "v6_OC9YMbVHf",
      "execution_count": null,
      "outputs": [
        {
          "output_type": "stream",
          "name": "stdout",
          "text": [
            "Looking in indexes: https://pypi.org/simple, https://us-python.pkg.dev/colab-wheels/public/simple/\n",
            "Requirement already satisfied: prophet in /usr/local/lib/python3.7/dist-packages (1.1)\n",
            "Requirement already satisfied: matplotlib>=2.0.0 in /usr/local/lib/python3.7/dist-packages (from prophet) (3.2.2)\n",
            "Requirement already satisfied: tqdm>=4.36.1 in /usr/local/lib/python3.7/dist-packages (from prophet) (4.64.0)\n",
            "Requirement already satisfied: convertdate>=2.1.2 in /usr/local/lib/python3.7/dist-packages (from prophet) (2.4.0)\n",
            "Requirement already satisfied: holidays>=0.13 in /usr/local/lib/python3.7/dist-packages (from prophet) (0.14.2)\n",
            "Requirement already satisfied: wheel>=0.37.0 in /usr/local/lib/python3.7/dist-packages (from prophet) (0.37.1)\n",
            "Requirement already satisfied: Cython>=0.22 in /usr/local/lib/python3.7/dist-packages (from prophet) (0.29.32)\n",
            "Requirement already satisfied: pandas>=1.0.4 in /usr/local/lib/python3.7/dist-packages (from prophet) (1.3.5)\n",
            "Requirement already satisfied: cmdstanpy>=1.0.1 in /usr/local/lib/python3.7/dist-packages (from prophet) (1.0.4)\n",
            "Requirement already satisfied: setuptools-git>=1.2 in /usr/local/lib/python3.7/dist-packages (from prophet) (1.2)\n",
            "Requirement already satisfied: numpy>=1.15.4 in /usr/local/lib/python3.7/dist-packages (from prophet) (1.21.6)\n",
            "Requirement already satisfied: python-dateutil>=2.8.0 in /usr/local/lib/python3.7/dist-packages (from prophet) (2.8.2)\n",
            "Requirement already satisfied: LunarCalendar>=0.0.9 in /usr/local/lib/python3.7/dist-packages (from prophet) (0.0.9)\n",
            "Requirement already satisfied: setuptools>=42 in /usr/local/lib/python3.7/dist-packages (from prophet) (57.4.0)\n",
            "Requirement already satisfied: ujson in /usr/local/lib/python3.7/dist-packages (from cmdstanpy>=1.0.1->prophet) (5.4.0)\n",
            "Requirement already satisfied: pymeeus<=1,>=0.3.13 in /usr/local/lib/python3.7/dist-packages (from convertdate>=2.1.2->prophet) (0.5.11)\n",
            "Requirement already satisfied: korean-lunar-calendar in /usr/local/lib/python3.7/dist-packages (from holidays>=0.13->prophet) (0.2.1)\n",
            "Requirement already satisfied: hijri-converter in /usr/local/lib/python3.7/dist-packages (from holidays>=0.13->prophet) (2.2.4)\n",
            "Requirement already satisfied: pytz in /usr/local/lib/python3.7/dist-packages (from LunarCalendar>=0.0.9->prophet) (2022.2.1)\n",
            "Requirement already satisfied: ephem>=3.7.5.3 in /usr/local/lib/python3.7/dist-packages (from LunarCalendar>=0.0.9->prophet) (4.1.3)\n",
            "Requirement already satisfied: cycler>=0.10 in /usr/local/lib/python3.7/dist-packages (from matplotlib>=2.0.0->prophet) (0.11.0)\n",
            "Requirement already satisfied: pyparsing!=2.0.4,!=2.1.2,!=2.1.6,>=2.0.1 in /usr/local/lib/python3.7/dist-packages (from matplotlib>=2.0.0->prophet) (3.0.9)\n",
            "Requirement already satisfied: kiwisolver>=1.0.1 in /usr/local/lib/python3.7/dist-packages (from matplotlib>=2.0.0->prophet) (1.4.4)\n",
            "Requirement already satisfied: typing-extensions in /usr/local/lib/python3.7/dist-packages (from kiwisolver>=1.0.1->matplotlib>=2.0.0->prophet) (4.1.1)\n",
            "Requirement already satisfied: six>=1.5 in /usr/local/lib/python3.7/dist-packages (from python-dateutil>=2.8.0->prophet) (1.15.0)\n"
          ]
        }
      ]
    },
    {
      "cell_type": "code",
      "source": [
        "!pip install yfinance"
      ],
      "metadata": {
        "colab": {
          "base_uri": "https://localhost:8080/"
        },
        "id": "eMc2uzCGbi3Y",
        "outputId": "46f99ebf-7ce8-4d72-d6e4-6740f1ff927e"
      },
      "id": "eMc2uzCGbi3Y",
      "execution_count": null,
      "outputs": [
        {
          "output_type": "stream",
          "name": "stdout",
          "text": [
            "Looking in indexes: https://pypi.org/simple, https://us-python.pkg.dev/colab-wheels/public/simple/\n",
            "Requirement already satisfied: yfinance in /usr/local/lib/python3.7/dist-packages (0.1.74)\n",
            "Requirement already satisfied: multitasking>=0.0.7 in /usr/local/lib/python3.7/dist-packages (from yfinance) (0.0.11)\n",
            "Requirement already satisfied: lxml>=4.5.1 in /usr/local/lib/python3.7/dist-packages (from yfinance) (4.9.1)\n",
            "Requirement already satisfied: pandas>=0.24.0 in /usr/local/lib/python3.7/dist-packages (from yfinance) (1.3.5)\n",
            "Requirement already satisfied: numpy>=1.15 in /usr/local/lib/python3.7/dist-packages (from yfinance) (1.21.6)\n",
            "Requirement already satisfied: requests>=2.26 in /usr/local/lib/python3.7/dist-packages (from yfinance) (2.28.1)\n",
            "Requirement already satisfied: pytz>=2017.3 in /usr/local/lib/python3.7/dist-packages (from pandas>=0.24.0->yfinance) (2022.2.1)\n",
            "Requirement already satisfied: python-dateutil>=2.7.3 in /usr/local/lib/python3.7/dist-packages (from pandas>=0.24.0->yfinance) (2.8.2)\n",
            "Requirement already satisfied: six>=1.5 in /usr/local/lib/python3.7/dist-packages (from python-dateutil>=2.7.3->pandas>=0.24.0->yfinance) (1.15.0)\n",
            "Requirement already satisfied: charset-normalizer<3,>=2 in /usr/local/lib/python3.7/dist-packages (from requests>=2.26->yfinance) (2.1.0)\n",
            "Requirement already satisfied: urllib3<1.27,>=1.21.1 in /usr/local/lib/python3.7/dist-packages (from requests>=2.26->yfinance) (1.24.3)\n",
            "Requirement already satisfied: certifi>=2017.4.17 in /usr/local/lib/python3.7/dist-packages (from requests>=2.26->yfinance) (2022.6.15)\n",
            "Requirement already satisfied: idna<4,>=2.5 in /usr/local/lib/python3.7/dist-packages (from requests>=2.26->yfinance) (2.10)\n"
          ]
        }
      ]
    },
    {
      "cell_type": "code",
      "source": [
        "!pip install statsmodels"
      ],
      "metadata": {
        "colab": {
          "base_uri": "https://localhost:8080/"
        },
        "id": "zQTcnpxLb9dG",
        "outputId": "88da244d-9384-42d8-c17a-2ee7b961bbf7"
      },
      "id": "zQTcnpxLb9dG",
      "execution_count": null,
      "outputs": [
        {
          "output_type": "stream",
          "name": "stdout",
          "text": [
            "Looking in indexes: https://pypi.org/simple, https://us-python.pkg.dev/colab-wheels/public/simple/\n",
            "Requirement already satisfied: statsmodels in /usr/local/lib/python3.7/dist-packages (0.12.2)\n",
            "Requirement already satisfied: pandas>=0.21 in /usr/local/lib/python3.7/dist-packages (from statsmodels) (1.3.5)\n",
            "Requirement already satisfied: numpy>=1.15 in /usr/local/lib/python3.7/dist-packages (from statsmodels) (1.21.6)\n",
            "Requirement already satisfied: scipy>=1.1 in /usr/local/lib/python3.7/dist-packages (from statsmodels) (1.7.3)\n",
            "Requirement already satisfied: patsy>=0.5 in /usr/local/lib/python3.7/dist-packages (from statsmodels) (0.5.2)\n",
            "Requirement already satisfied: python-dateutil>=2.7.3 in /usr/local/lib/python3.7/dist-packages (from pandas>=0.21->statsmodels) (2.8.2)\n",
            "Requirement already satisfied: pytz>=2017.3 in /usr/local/lib/python3.7/dist-packages (from pandas>=0.21->statsmodels) (2022.2.1)\n",
            "Requirement already satisfied: six in /usr/local/lib/python3.7/dist-packages (from patsy>=0.5->statsmodels) (1.15.0)\n"
          ]
        }
      ]
    },
    {
      "cell_type": "code",
      "execution_count": null,
      "id": "20c7cf44-d359-4e02-876e-27682b81a627",
      "metadata": {
        "id": "20c7cf44-d359-4e02-876e-27682b81a627"
      },
      "outputs": [],
      "source": [
        "#load all the modules\n",
        "import pandas as pd\n",
        "from prophet import Prophet\n",
        "import matplotlib.pyplot as plt\n",
        "import yfinance as yf\n",
        "from sklearn.metrics import mean_squared_error\n",
        "import numpy as np\n",
        "from statsmodels.tsa.arima.model import ARIMA\n",
        "#Note 1: please install prophet using !pip install prophet\n",
        "#Note 2: please install yfinance using: !pip install yfinance"
      ]
    },
    {
      "cell_type": "code",
      "execution_count": null,
      "id": "8e47c168-9dc9-4f89-8405-ed00576cffd6",
      "metadata": {
        "id": "8e47c168-9dc9-4f89-8405-ed00576cffd6"
      },
      "outputs": [],
      "source": [
        "#step 0: ask for user input for the desired stock symbol of interest and assign it to a variable named \"stock_symbol\"\n",
        "#hint: we covered getting user input in the lessons\n",
        "stock_symbol=\"AAPL\""
      ]
    },
    {
      "cell_type": "code",
      "source": [
        "stock_symbol = input(\"Enter the stock symbole : \")"
      ],
      "metadata": {
        "id": "cgljQjnfxM22",
        "colab": {
          "base_uri": "https://localhost:8080/"
        },
        "outputId": "7d31e2bc-0c60-4200-9d4a-8e06e82009db"
      },
      "id": "cgljQjnfxM22",
      "execution_count": null,
      "outputs": [
        {
          "name": "stdout",
          "output_type": "stream",
          "text": [
            "Enter the stock symbole : META\n"
          ]
        }
      ]
    },
    {
      "cell_type": "code",
      "execution_count": null,
      "id": "2e8b17b3-a1bb-4b84-ae0e-82a2cc5fb723",
      "metadata": {
        "id": "2e8b17b3-a1bb-4b84-ae0e-82a2cc5fb723"
      },
      "outputs": [],
      "source": [
        "#step 1: download the historical stock data (last 5 years) of the symbol of interest from Yahoo Finance using the yfinance API\n",
        "yf_ticker=yf.Ticker(stock_symbol) #\n",
        "yf_history=yf_ticker.history(period=\"5y\")\n",
        "\n",
        "#number of days that we want to forecast\n",
        "forecast_period=180"
      ]
    },
    {
      "cell_type": "code",
      "execution_count": null,
      "id": "cb3fef62-b0b5-4182-92c8-60dff6352e22",
      "metadata": {
        "id": "cb3fef62-b0b5-4182-92c8-60dff6352e22",
        "colab": {
          "base_uri": "https://localhost:8080/",
          "height": 238
        },
        "outputId": "160f3ac5-9e48-4458-a738-c40c9b21ce27"
      },
      "outputs": [
        {
          "output_type": "execute_result",
          "data": {
            "text/plain": [
              "                  Open        High         Low       Close    Volume  \\\n",
              "Date                                                                   \n",
              "2017-08-24  168.880005  169.289993  166.410004  167.740005  14030400   \n",
              "2017-08-25  167.860001  168.380005  166.179993  166.320007  12614500   \n",
              "2017-08-28  166.910004  167.699997  166.330002  167.240005   8553700   \n",
              "2017-08-29  165.250000  168.429993  165.000000  168.050003  11121000   \n",
              "2017-08-30  168.169998  170.179993  167.630005  169.919998  11138300   \n",
              "\n",
              "            Dividends  Stock Splits  \n",
              "Date                                 \n",
              "2017-08-24          0             0  \n",
              "2017-08-25          0             0  \n",
              "2017-08-28          0             0  \n",
              "2017-08-29          0             0  \n",
              "2017-08-30          0             0  "
            ],
            "text/html": [
              "\n",
              "  <div id=\"df-2a4caf78-fbc5-4850-a36d-7fe47e14c111\">\n",
              "    <div class=\"colab-df-container\">\n",
              "      <div>\n",
              "<style scoped>\n",
              "    .dataframe tbody tr th:only-of-type {\n",
              "        vertical-align: middle;\n",
              "    }\n",
              "\n",
              "    .dataframe tbody tr th {\n",
              "        vertical-align: top;\n",
              "    }\n",
              "\n",
              "    .dataframe thead th {\n",
              "        text-align: right;\n",
              "    }\n",
              "</style>\n",
              "<table border=\"1\" class=\"dataframe\">\n",
              "  <thead>\n",
              "    <tr style=\"text-align: right;\">\n",
              "      <th></th>\n",
              "      <th>Open</th>\n",
              "      <th>High</th>\n",
              "      <th>Low</th>\n",
              "      <th>Close</th>\n",
              "      <th>Volume</th>\n",
              "      <th>Dividends</th>\n",
              "      <th>Stock Splits</th>\n",
              "    </tr>\n",
              "    <tr>\n",
              "      <th>Date</th>\n",
              "      <th></th>\n",
              "      <th></th>\n",
              "      <th></th>\n",
              "      <th></th>\n",
              "      <th></th>\n",
              "      <th></th>\n",
              "      <th></th>\n",
              "    </tr>\n",
              "  </thead>\n",
              "  <tbody>\n",
              "    <tr>\n",
              "      <th>2017-08-24</th>\n",
              "      <td>168.880005</td>\n",
              "      <td>169.289993</td>\n",
              "      <td>166.410004</td>\n",
              "      <td>167.740005</td>\n",
              "      <td>14030400</td>\n",
              "      <td>0</td>\n",
              "      <td>0</td>\n",
              "    </tr>\n",
              "    <tr>\n",
              "      <th>2017-08-25</th>\n",
              "      <td>167.860001</td>\n",
              "      <td>168.380005</td>\n",
              "      <td>166.179993</td>\n",
              "      <td>166.320007</td>\n",
              "      <td>12614500</td>\n",
              "      <td>0</td>\n",
              "      <td>0</td>\n",
              "    </tr>\n",
              "    <tr>\n",
              "      <th>2017-08-28</th>\n",
              "      <td>166.910004</td>\n",
              "      <td>167.699997</td>\n",
              "      <td>166.330002</td>\n",
              "      <td>167.240005</td>\n",
              "      <td>8553700</td>\n",
              "      <td>0</td>\n",
              "      <td>0</td>\n",
              "    </tr>\n",
              "    <tr>\n",
              "      <th>2017-08-29</th>\n",
              "      <td>165.250000</td>\n",
              "      <td>168.429993</td>\n",
              "      <td>165.000000</td>\n",
              "      <td>168.050003</td>\n",
              "      <td>11121000</td>\n",
              "      <td>0</td>\n",
              "      <td>0</td>\n",
              "    </tr>\n",
              "    <tr>\n",
              "      <th>2017-08-30</th>\n",
              "      <td>168.169998</td>\n",
              "      <td>170.179993</td>\n",
              "      <td>167.630005</td>\n",
              "      <td>169.919998</td>\n",
              "      <td>11138300</td>\n",
              "      <td>0</td>\n",
              "      <td>0</td>\n",
              "    </tr>\n",
              "  </tbody>\n",
              "</table>\n",
              "</div>\n",
              "      <button class=\"colab-df-convert\" onclick=\"convertToInteractive('df-2a4caf78-fbc5-4850-a36d-7fe47e14c111')\"\n",
              "              title=\"Convert this dataframe to an interactive table.\"\n",
              "              style=\"display:none;\">\n",
              "        \n",
              "  <svg xmlns=\"http://www.w3.org/2000/svg\" height=\"24px\"viewBox=\"0 0 24 24\"\n",
              "       width=\"24px\">\n",
              "    <path d=\"M0 0h24v24H0V0z\" fill=\"none\"/>\n",
              "    <path d=\"M18.56 5.44l.94 2.06.94-2.06 2.06-.94-2.06-.94-.94-2.06-.94 2.06-2.06.94zm-11 1L8.5 8.5l.94-2.06 2.06-.94-2.06-.94L8.5 2.5l-.94 2.06-2.06.94zm10 10l.94 2.06.94-2.06 2.06-.94-2.06-.94-.94-2.06-.94 2.06-2.06.94z\"/><path d=\"M17.41 7.96l-1.37-1.37c-.4-.4-.92-.59-1.43-.59-.52 0-1.04.2-1.43.59L10.3 9.45l-7.72 7.72c-.78.78-.78 2.05 0 2.83L4 21.41c.39.39.9.59 1.41.59.51 0 1.02-.2 1.41-.59l7.78-7.78 2.81-2.81c.8-.78.8-2.07 0-2.86zM5.41 20L4 18.59l7.72-7.72 1.47 1.35L5.41 20z\"/>\n",
              "  </svg>\n",
              "      </button>\n",
              "      \n",
              "  <style>\n",
              "    .colab-df-container {\n",
              "      display:flex;\n",
              "      flex-wrap:wrap;\n",
              "      gap: 12px;\n",
              "    }\n",
              "\n",
              "    .colab-df-convert {\n",
              "      background-color: #E8F0FE;\n",
              "      border: none;\n",
              "      border-radius: 50%;\n",
              "      cursor: pointer;\n",
              "      display: none;\n",
              "      fill: #1967D2;\n",
              "      height: 32px;\n",
              "      padding: 0 0 0 0;\n",
              "      width: 32px;\n",
              "    }\n",
              "\n",
              "    .colab-df-convert:hover {\n",
              "      background-color: #E2EBFA;\n",
              "      box-shadow: 0px 1px 2px rgba(60, 64, 67, 0.3), 0px 1px 3px 1px rgba(60, 64, 67, 0.15);\n",
              "      fill: #174EA6;\n",
              "    }\n",
              "\n",
              "    [theme=dark] .colab-df-convert {\n",
              "      background-color: #3B4455;\n",
              "      fill: #D2E3FC;\n",
              "    }\n",
              "\n",
              "    [theme=dark] .colab-df-convert:hover {\n",
              "      background-color: #434B5C;\n",
              "      box-shadow: 0px 1px 3px 1px rgba(0, 0, 0, 0.15);\n",
              "      filter: drop-shadow(0px 1px 2px rgba(0, 0, 0, 0.3));\n",
              "      fill: #FFFFFF;\n",
              "    }\n",
              "  </style>\n",
              "\n",
              "      <script>\n",
              "        const buttonEl =\n",
              "          document.querySelector('#df-2a4caf78-fbc5-4850-a36d-7fe47e14c111 button.colab-df-convert');\n",
              "        buttonEl.style.display =\n",
              "          google.colab.kernel.accessAllowed ? 'block' : 'none';\n",
              "\n",
              "        async function convertToInteractive(key) {\n",
              "          const element = document.querySelector('#df-2a4caf78-fbc5-4850-a36d-7fe47e14c111');\n",
              "          const dataTable =\n",
              "            await google.colab.kernel.invokeFunction('convertToInteractive',\n",
              "                                                     [key], {});\n",
              "          if (!dataTable) return;\n",
              "\n",
              "          const docLinkHtml = 'Like what you see? Visit the ' +\n",
              "            '<a target=\"_blank\" href=https://colab.research.google.com/notebooks/data_table.ipynb>data table notebook</a>'\n",
              "            + ' to learn more about interactive tables.';\n",
              "          element.innerHTML = '';\n",
              "          dataTable['output_type'] = 'display_data';\n",
              "          await google.colab.output.renderOutput(dataTable, element);\n",
              "          const docLink = document.createElement('div');\n",
              "          docLink.innerHTML = docLinkHtml;\n",
              "          element.appendChild(docLink);\n",
              "        }\n",
              "      </script>\n",
              "    </div>\n",
              "  </div>\n",
              "  "
            ]
          },
          "metadata": {},
          "execution_count": 39
        }
      ],
      "source": [
        "#step 2: print the first 5 rows of the dataset\n",
        "#hint: use the head() function\n",
        "\n",
        "yf_history.head()"
      ]
    },
    {
      "cell_type": "code",
      "execution_count": null,
      "id": "6c87d916-cdd2-4c89-89f2-9905afe493c6",
      "metadata": {
        "id": "6c87d916-cdd2-4c89-89f2-9905afe493c6"
      },
      "outputs": [],
      "source": [
        "#step 3: create a data frame called \"yf_mod\" with only the Close columns from the yf_history data frame\n",
        "#hint: select the desired columns by using the column names. e.g. my_data_fram[[\"Column\"]]\n",
        "yf_mod=yf_history[[\"Close\"]]"
      ]
    },
    {
      "cell_type": "code",
      "execution_count": null,
      "id": "6b861dd7-2e84-4779-9050-7f3ef15fbcc8",
      "metadata": {
        "id": "6b861dd7-2e84-4779-9050-7f3ef15fbcc8",
        "colab": {
          "base_uri": "https://localhost:8080/",
          "height": 206
        },
        "outputId": "6ec6a105-cc62-41be-ceca-5069301cfa91"
      },
      "outputs": [
        {
          "output_type": "execute_result",
          "data": {
            "text/plain": [
              "          ds           y\n",
              "0 2017-08-24  167.740005\n",
              "1 2017-08-25  166.320007\n",
              "2 2017-08-28  167.240005\n",
              "3 2017-08-29  168.050003\n",
              "4 2017-08-30  169.919998"
            ],
            "text/html": [
              "\n",
              "  <div id=\"df-150084fa-13b1-44e7-901a-fd5ff9ec90d2\">\n",
              "    <div class=\"colab-df-container\">\n",
              "      <div>\n",
              "<style scoped>\n",
              "    .dataframe tbody tr th:only-of-type {\n",
              "        vertical-align: middle;\n",
              "    }\n",
              "\n",
              "    .dataframe tbody tr th {\n",
              "        vertical-align: top;\n",
              "    }\n",
              "\n",
              "    .dataframe thead th {\n",
              "        text-align: right;\n",
              "    }\n",
              "</style>\n",
              "<table border=\"1\" class=\"dataframe\">\n",
              "  <thead>\n",
              "    <tr style=\"text-align: right;\">\n",
              "      <th></th>\n",
              "      <th>ds</th>\n",
              "      <th>y</th>\n",
              "    </tr>\n",
              "  </thead>\n",
              "  <tbody>\n",
              "    <tr>\n",
              "      <th>0</th>\n",
              "      <td>2017-08-24</td>\n",
              "      <td>167.740005</td>\n",
              "    </tr>\n",
              "    <tr>\n",
              "      <th>1</th>\n",
              "      <td>2017-08-25</td>\n",
              "      <td>166.320007</td>\n",
              "    </tr>\n",
              "    <tr>\n",
              "      <th>2</th>\n",
              "      <td>2017-08-28</td>\n",
              "      <td>167.240005</td>\n",
              "    </tr>\n",
              "    <tr>\n",
              "      <th>3</th>\n",
              "      <td>2017-08-29</td>\n",
              "      <td>168.050003</td>\n",
              "    </tr>\n",
              "    <tr>\n",
              "      <th>4</th>\n",
              "      <td>2017-08-30</td>\n",
              "      <td>169.919998</td>\n",
              "    </tr>\n",
              "  </tbody>\n",
              "</table>\n",
              "</div>\n",
              "      <button class=\"colab-df-convert\" onclick=\"convertToInteractive('df-150084fa-13b1-44e7-901a-fd5ff9ec90d2')\"\n",
              "              title=\"Convert this dataframe to an interactive table.\"\n",
              "              style=\"display:none;\">\n",
              "        \n",
              "  <svg xmlns=\"http://www.w3.org/2000/svg\" height=\"24px\"viewBox=\"0 0 24 24\"\n",
              "       width=\"24px\">\n",
              "    <path d=\"M0 0h24v24H0V0z\" fill=\"none\"/>\n",
              "    <path d=\"M18.56 5.44l.94 2.06.94-2.06 2.06-.94-2.06-.94-.94-2.06-.94 2.06-2.06.94zm-11 1L8.5 8.5l.94-2.06 2.06-.94-2.06-.94L8.5 2.5l-.94 2.06-2.06.94zm10 10l.94 2.06.94-2.06 2.06-.94-2.06-.94-.94-2.06-.94 2.06-2.06.94z\"/><path d=\"M17.41 7.96l-1.37-1.37c-.4-.4-.92-.59-1.43-.59-.52 0-1.04.2-1.43.59L10.3 9.45l-7.72 7.72c-.78.78-.78 2.05 0 2.83L4 21.41c.39.39.9.59 1.41.59.51 0 1.02-.2 1.41-.59l7.78-7.78 2.81-2.81c.8-.78.8-2.07 0-2.86zM5.41 20L4 18.59l7.72-7.72 1.47 1.35L5.41 20z\"/>\n",
              "  </svg>\n",
              "      </button>\n",
              "      \n",
              "  <style>\n",
              "    .colab-df-container {\n",
              "      display:flex;\n",
              "      flex-wrap:wrap;\n",
              "      gap: 12px;\n",
              "    }\n",
              "\n",
              "    .colab-df-convert {\n",
              "      background-color: #E8F0FE;\n",
              "      border: none;\n",
              "      border-radius: 50%;\n",
              "      cursor: pointer;\n",
              "      display: none;\n",
              "      fill: #1967D2;\n",
              "      height: 32px;\n",
              "      padding: 0 0 0 0;\n",
              "      width: 32px;\n",
              "    }\n",
              "\n",
              "    .colab-df-convert:hover {\n",
              "      background-color: #E2EBFA;\n",
              "      box-shadow: 0px 1px 2px rgba(60, 64, 67, 0.3), 0px 1px 3px 1px rgba(60, 64, 67, 0.15);\n",
              "      fill: #174EA6;\n",
              "    }\n",
              "\n",
              "    [theme=dark] .colab-df-convert {\n",
              "      background-color: #3B4455;\n",
              "      fill: #D2E3FC;\n",
              "    }\n",
              "\n",
              "    [theme=dark] .colab-df-convert:hover {\n",
              "      background-color: #434B5C;\n",
              "      box-shadow: 0px 1px 3px 1px rgba(0, 0, 0, 0.15);\n",
              "      filter: drop-shadow(0px 1px 2px rgba(0, 0, 0, 0.3));\n",
              "      fill: #FFFFFF;\n",
              "    }\n",
              "  </style>\n",
              "\n",
              "      <script>\n",
              "        const buttonEl =\n",
              "          document.querySelector('#df-150084fa-13b1-44e7-901a-fd5ff9ec90d2 button.colab-df-convert');\n",
              "        buttonEl.style.display =\n",
              "          google.colab.kernel.accessAllowed ? 'block' : 'none';\n",
              "\n",
              "        async function convertToInteractive(key) {\n",
              "          const element = document.querySelector('#df-150084fa-13b1-44e7-901a-fd5ff9ec90d2');\n",
              "          const dataTable =\n",
              "            await google.colab.kernel.invokeFunction('convertToInteractive',\n",
              "                                                     [key], {});\n",
              "          if (!dataTable) return;\n",
              "\n",
              "          const docLinkHtml = 'Like what you see? Visit the ' +\n",
              "            '<a target=\"_blank\" href=https://colab.research.google.com/notebooks/data_table.ipynb>data table notebook</a>'\n",
              "            + ' to learn more about interactive tables.';\n",
              "          element.innerHTML = '';\n",
              "          dataTable['output_type'] = 'display_data';\n",
              "          await google.colab.output.renderOutput(dataTable, element);\n",
              "          const docLink = document.createElement('div');\n",
              "          docLink.innerHTML = docLinkHtml;\n",
              "          element.appendChild(docLink);\n",
              "        }\n",
              "      </script>\n",
              "    </div>\n",
              "  </div>\n",
              "  "
            ]
          },
          "metadata": {},
          "execution_count": 41
        }
      ],
      "source": [
        "#step 4: Reset the column index and rename the Date and Close columns as ds and y\n",
        "yf_mod.reset_index(level=0,inplace=True)\n",
        "yf_mod=yf_mod.rename({'Date':'ds','Close':'y'},axis='columns')\n",
        "yf_mod.head()"
      ]
    },
    {
      "cell_type": "code",
      "execution_count": null,
      "id": "cd5828e5-5a9c-4175-8027-58cfa878fdc9",
      "metadata": {
        "id": "cd5828e5-5a9c-4175-8027-58cfa878fdc9"
      },
      "outputs": [],
      "source": [
        "#Step 5: split the yf_mod data frame into training and test data frames. We will use the training data frame to build the model and test data frame for forecasting.\n",
        "#We will use the last 180 days for testing purposes and the remaining dataset for training.\n",
        "#hint: first count the number of rows of yf_mod using the len() or yf_mod.shape commands\n",
        "#hint 2: use the iloc function in pandas to select the desired number of rows\n",
        "number_rows=len(yf_mod)\n",
        "yf_mod_train=yf_mod.iloc[:(number_rows-forecast_period)]\n",
        "\n",
        "#To do: use the iloc function as aboe to only select the last 180 rows\n",
        "#hint 3: yf_mod.iloc[start:end]\n",
        "yf_mod_test=yf_mod.iloc[(number_rows-forecast_period):(number_rows)]"
      ]
    },
    {
      "cell_type": "code",
      "execution_count": null,
      "id": "eb935a5f-ea75-4d86-a806-dc5b7cd2d8b6",
      "metadata": {
        "id": "eb935a5f-ea75-4d86-a806-dc5b7cd2d8b6",
        "colab": {
          "base_uri": "https://localhost:8080/"
        },
        "outputId": "b8905b00-bd0b-4ffd-e207-900081556532"
      },
      "outputs": [
        {
          "output_type": "stream",
          "name": "stderr",
          "text": [
            "DEBUG:cmdstanpy:input tempfile: /tmp/tmpjilsxc1r/c8x7zf57.json\n",
            "DEBUG:cmdstanpy:input tempfile: /tmp/tmpjilsxc1r/fqrzws55.json\n",
            "DEBUG:cmdstanpy:idx 0\n",
            "DEBUG:cmdstanpy:running CmdStan, num_threads: None\n",
            "DEBUG:cmdstanpy:CmdStan args: ['/usr/local/lib/python3.7/dist-packages/prophet/stan_model/prophet_model.bin', 'random', 'seed=58114', 'data', 'file=/tmp/tmpjilsxc1r/c8x7zf57.json', 'init=/tmp/tmpjilsxc1r/fqrzws55.json', 'output', 'file=/tmp/tmprv0rk113/prophet_model-20220823230753.csv', 'method=optimize', 'algorithm=lbfgs', 'iter=10000']\n",
            "23:07:53 - cmdstanpy - INFO - Chain [1] start processing\n",
            "INFO:cmdstanpy:Chain [1] start processing\n",
            "23:07:54 - cmdstanpy - INFO - Chain [1] done processing\n",
            "INFO:cmdstanpy:Chain [1] done processing\n"
          ]
        },
        {
          "output_type": "execute_result",
          "data": {
            "text/plain": [
              "<prophet.forecaster.Prophet at 0x7f52ddd122d0>"
            ]
          },
          "metadata": {},
          "execution_count": 43
        }
      ],
      "source": [
        "#step 5: Use the fit function in prophet to build the model\n",
        "m=Prophet(daily_seasonality=True)\n",
        "m.fit(yf_mod_train)\n"
      ]
    },
    {
      "cell_type": "code",
      "execution_count": null,
      "id": "5ccaac10-339e-40e6-ac0d-7e8984bd8ccd",
      "metadata": {
        "id": "5ccaac10-339e-40e6-ac0d-7e8984bd8ccd"
      },
      "outputs": [],
      "source": [
        "#Step 6: use the predict function in prophet to forecast prices\n",
        "#hint: m.predict(name_of_the_test_data_frame)\n",
        "prophet_forecast=m.predict(yf_mod_test)"
      ]
    },
    {
      "cell_type": "code",
      "source": [
        "prophet_forecast[[\"trend\"]].mean()"
      ],
      "metadata": {
        "colab": {
          "base_uri": "https://localhost:8080/"
        },
        "id": "PkTJ5Wzu7lp-",
        "outputId": "3babc6f7-8d51-4784-f4d5-eccd89012410"
      },
      "id": "PkTJ5Wzu7lp-",
      "execution_count": null,
      "outputs": [
        {
          "output_type": "execute_result",
          "data": {
            "text/plain": [
              "trend    387.511791\n",
              "dtype: float64"
            ]
          },
          "metadata": {},
          "execution_count": 45
        }
      ]
    },
    {
      "cell_type": "code",
      "execution_count": null,
      "id": "e7b4093c-3b01-442c-84a2-f8b8ee0556a6",
      "metadata": {
        "id": "e7b4093c-3b01-442c-84a2-f8b8ee0556a6",
        "colab": {
          "base_uri": "https://localhost:8080/",
          "height": 865
        },
        "outputId": "8ec29b23-8fce-4a8a-8cc9-50a91f1e705a"
      },
      "outputs": [
        {
          "output_type": "execute_result",
          "data": {
            "text/plain": [
              "<Figure size 720x432 with 1 Axes>"
            ],
            "image/png": "[encoded data removed]"
          },
          "metadata": {},
          "execution_count": 46
        },
        {
          "output_type": "display_data",
          "data": {
            "text/plain": [
              "<Figure size 720x432 with 1 Axes>"
            ],
            "image/png": "[encoded data removed]"
          },
          "metadata": {}
        }
      ],
      "source": [
        "#Step 7: use the plot function in prophet to visualize the time series\n",
        "m.plot(prophet_forecast)"
      ]
    },
    {
      "cell_type": "code",
      "execution_count": null,
      "id": "110a947b-4696-4ebb-902d-78cffe857ce2",
      "metadata": {
        "id": "110a947b-4696-4ebb-902d-78cffe857ce2"
      },
      "outputs": [],
      "source": [
        "#step 8: compare the performance of the prophet model with ARIMA (auto-regressive integrated moving average) model - a time-series forecasting approach\n",
        "#we will create a function to get forecasted prices from the ARIMA model\n",
        "def get_arima(train,period):\n",
        "    arima_model=ARIMA(train,order=(2,2,1))\n",
        "    arima_fit=arima_model.fit()\n",
        "    arima_pred=arima_fit.forecast(period)\n",
        "    return arima_pred\n",
        "\n",
        "arima_forecast=get_arima(yf_mod_train[[\"y\"]],period=forecast_period)\n"
      ]
    },
    {
      "cell_type": "code",
      "execution_count": null,
      "id": "2e5c76e5-42ce-4f3c-954a-8104c9513936",
      "metadata": {
        "id": "2e5c76e5-42ce-4f3c-954a-8104c9513936"
      },
      "outputs": [],
      "source": [
        "#Step 9: Error calculation for the prophet model between the actual and predicted prices for the next 180 days\n",
        "#Calculate the root mean square error using the mean_squared_error_function\n",
        "actual=yf_mod_test[[\"y\"]]\n",
        "predicted=prophet_forecast[[\"trend\"]]\n",
        "rmse_prophet = mean_squared_error(actual,predicted,squared=False)\n"
      ]
    },
    {
      "cell_type": "code",
      "execution_count": null,
      "id": "74b627d9-fbbf-4f79-af7d-7dac29899e85",
      "metadata": {
        "id": "74b627d9-fbbf-4f79-af7d-7dac29899e85"
      },
      "outputs": [],
      "source": [
        "#Step 10: Error calculation for the ARIMA model between the actual and predicted prices for the next 180 days\n",
        "#Calculate the root mean square error using the mean_squared_error_function\n",
        "#hint: see step 9:\n",
        "actual=yf_mod_test[[\"y\"]]\n",
        "predicted=arima_forecast\n",
        "rmse_arima   = mean_squared_error(actual,predicted,squared=True)\n"
      ]
    },
    {
      "cell_type": "code",
      "execution_count": null,
      "id": "454b32af-ddd3-483b-a059-04f2dde85d17",
      "metadata": {
        "id": "454b32af-ddd3-483b-a059-04f2dde85d17",
        "colab": {
          "base_uri": "https://localhost:8080/"
        },
        "outputId": "27d55ddf-43f6-4122-f3a3-93098174a28c"
      },
      "outputs": [
        {
          "output_type": "stream",
          "name": "stdout",
          "text": [
            "Model RMSE for Prophet:  181.07923130709995\n",
            "Model RMSE for ARIMA:  13602.877446982138\n"
          ]
        }
      ],
      "source": [
        "#Step 11: Compare performance\n",
        "print(\"Model RMSE for Prophet: \",rmse_prophet)\n",
        "print(\"Model RMSE for ARIMA: \",rmse_arima)\n"
      ]
    },
    {
      "cell_type": "code",
      "execution_count": null,
      "id": "e9505023-8166-4a39-b921-5bccba8c70b1",
      "metadata": {
        "id": "e9505023-8166-4a39-b921-5bccba8c70b1"
      },
      "outputs": [],
      "source": []
    }
  ],
  "metadata": {
    "kernelspec": {
      "display_name": "Python 3 (ipykernel)",
      "language": "python",
      "name": "python3"
    },
    "language_info": {
      "codemirror_mode": {
        "name": "ipython",
        "version": 3
      },
      "file_extension": ".py",
      "mimetype": "text/x-python",
      "name": "python",
      "nbconvert_exporter": "python",
      "pygments_lexer": "ipython3",
      "version": "3.9.12"
    },
    "colab": {
      "provenance": []
    }
  },
  "nbformat": 4,
  "nbformat_minor": 5
}