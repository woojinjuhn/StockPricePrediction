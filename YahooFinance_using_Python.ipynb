{
  "cells": [
    {
      "cell_type": "code",
      "execution_count": null,
      "id": "2dc46848-a9c5-42f6-bd4e-43ffb98f837a",
      "metadata": {
        "id": "2dc46848-a9c5-42f6-bd4e-43ffb98f837a"
      },
      "outputs": [],
      "source": [
        "#Lesson 5: Accessing Yahoo Finance data using Python\n"
      ]
    },
    {
      "cell_type": "code",
      "execution_count": null,
      "id": "09cda760-7a74-4a15-90da-f237ac90c878",
      "metadata": {
        "id": "09cda760-7a74-4a15-90da-f237ac90c878"
      },
      "outputs": [],
      "source": [
        "##Install Yahoo Finance API"
      ]
    },
    {
      "cell_type": "code",
      "execution_count": null,
      "id": "60e6520a-5621-4140-9960-bb149c07e1db",
      "metadata": {
        "id": "60e6520a-5621-4140-9960-bb149c07e1db",
        "outputId": "67b12f1c-396a-461d-9d5d-651bfaf3f2a9"
      },
      "outputs": [
        {
          "name": "stdout",
          "output_type": "stream",
          "text": [
            "Collecting yfinance\n",
            "  Downloading yfinance-0.1.74-py2.py3-none-any.whl (27 kB)\n",
            "Requirement already satisfied: lxml>=4.5.1 in c:\\users\\karan\\anaconda3\\lib\\site-packages (from yfinance) (4.8.0)\n",
            "Requirement already satisfied: numpy>=1.15 in c:\\users\\karan\\anaconda3\\lib\\site-packages (from yfinance) (1.21.5)\n",
            "Requirement already satisfied: requests>=2.26 in c:\\users\\karan\\anaconda3\\lib\\site-packages (from yfinance) (2.27.1)\n",
            "Collecting multitasking>=0.0.7\n",
            "  Downloading multitasking-0.0.11-py3-none-any.whl (8.5 kB)\n",
            "Requirement already satisfied: pandas>=0.24.0 in c:\\users\\karan\\anaconda3\\lib\\site-packages (from yfinance) (1.4.2)\n",
            "Requirement already satisfied: python-dateutil>=2.8.1 in c:\\users\\karan\\anaconda3\\lib\\site-packages (from pandas>=0.24.0->yfinance) (2.8.2)\n",
            "Requirement already satisfied: pytz>=2020.1 in c:\\users\\karan\\anaconda3\\lib\\site-packages (from pandas>=0.24.0->yfinance) (2021.3)\n",
            "Requirement already satisfied: six>=1.5 in c:\\users\\karan\\anaconda3\\lib\\site-packages (from python-dateutil>=2.8.1->pandas>=0.24.0->yfinance) (1.16.0)\n",
            "Requirement already satisfied: urllib3<1.27,>=1.21.1 in c:\\users\\karan\\anaconda3\\lib\\site-packages (from requests>=2.26->yfinance) (1.26.9)\n",
            "Requirement already satisfied: certifi>=2017.4.17 in c:\\users\\karan\\anaconda3\\lib\\site-packages (from requests>=2.26->yfinance) (2021.10.8)\n",
            "Requirement already satisfied: idna<4,>=2.5 in c:\\users\\karan\\anaconda3\\lib\\site-packages (from requests>=2.26->yfinance) (3.3)\n",
            "Requirement already satisfied: charset-normalizer~=2.0.0 in c:\\users\\karan\\anaconda3\\lib\\site-packages (from requests>=2.26->yfinance) (2.0.4)\n",
            "Installing collected packages: multitasking, yfinance\n",
            "Successfully installed multitasking-0.0.11 yfinance-0.1.74\n"
          ]
        }
      ],
      "source": [
        "!pip install yfinance"
      ]
    },
    {
      "cell_type": "code",
      "execution_count": null,
      "id": "15f58d33-c1de-4330-b638-e96d0ac70c5e",
      "metadata": {
        "id": "15f58d33-c1de-4330-b638-e96d0ac70c5e"
      },
      "outputs": [],
      "source": [
        "##Import Python modules"
      ]
    },
    {
      "cell_type": "code",
      "execution_count": null,
      "id": "be49dd80-8a58-45c2-b731-484d2cc4e35f",
      "metadata": {
        "id": "be49dd80-8a58-45c2-b731-484d2cc4e35f"
      },
      "outputs": [],
      "source": [
        "import pandas as pd\n",
        "import yfinance as yf"
      ]
    },
    {
      "cell_type": "code",
      "execution_count": null,
      "id": "8ee93c14-4cd5-47d9-b801-9a889d3ba2dd",
      "metadata": {
        "id": "8ee93c14-4cd5-47d9-b801-9a889d3ba2dd"
      },
      "outputs": [],
      "source": [
        "##We will download the data from Yahoo Finance using the download() function in yfinance module.\n",
        "###The download function expects the following arguments:\n",
        "####tickers: stock symbol (\"AAPL\",\"FB\")\n",
        "####start: start date\n",
        "####end: end date"
      ]
    },
    {
      "cell_type": "code",
      "execution_count": null,
      "id": "c399ea34-e4d4-4ea3-9098-fe3cc4ddf4b2",
      "metadata": {
        "id": "c399ea34-e4d4-4ea3-9098-fe3cc4ddf4b2",
        "outputId": "27e60d37-24bf-4570-c9ec-e7d59880763a"
      },
      "outputs": [
        {
          "name": "stdin",
          "output_type": "stream",
          "text": [
            "Please enter the stock symbol: MSFT\n"
          ]
        },
        {
          "name": "stdout",
          "output_type": "stream",
          "text": [
            "[*********************100%***********************]  1 of 1 completed\n"
          ]
        }
      ],
      "source": [
        "\n",
        "stock_symbol=input(\"Please enter the stock symbol:\")\n",
        "\n",
        "yf_data=yf.download(stock_symbol,start='2017-01-01',end='2022-07-12')\n"
      ]
    },
    {
      "cell_type": "code",
      "execution_count": null,
      "id": "238e745f-828c-44de-9a02-c9b2f66d86c8",
      "metadata": {
        "id": "238e745f-828c-44de-9a02-c9b2f66d86c8",
        "outputId": "2b42a10d-2b57-40be-a8b3-4fa4d3819ac1"
      },
      "outputs": [
        {
          "data": {
            "text/html": [
              "<div>\n",
              "<style scoped>\n",
              "    .dataframe tbody tr th:only-of-type {\n",
              "        vertical-align: middle;\n",
              "    }\n",
              "\n",
              "    .dataframe tbody tr th {\n",
              "        vertical-align: top;\n",
              "    }\n",
              "\n",
              "    .dataframe thead th {\n",
              "        text-align: right;\n",
              "    }\n",
              "</style>\n",
              "<table border=\"1\" class=\"dataframe\">\n",
              "  <thead>\n",
              "    <tr style=\"text-align: right;\">\n",
              "      <th></th>\n",
              "      <th>Open</th>\n",
              "      <th>High</th>\n",
              "      <th>Low</th>\n",
              "      <th>Close</th>\n",
              "      <th>Adj Close</th>\n",
              "      <th>Volume</th>\n",
              "    </tr>\n",
              "    <tr>\n",
              "      <th>Date</th>\n",
              "      <th></th>\n",
              "      <th></th>\n",
              "      <th></th>\n",
              "      <th></th>\n",
              "      <th></th>\n",
              "      <th></th>\n",
              "    </tr>\n",
              "  </thead>\n",
              "  <tbody>\n",
              "    <tr>\n",
              "      <th>2017-01-03</th>\n",
              "      <td>62.790001</td>\n",
              "      <td>62.840000</td>\n",
              "      <td>62.130001</td>\n",
              "      <td>62.580002</td>\n",
              "      <td>57.930523</td>\n",
              "      <td>20694100</td>\n",
              "    </tr>\n",
              "    <tr>\n",
              "      <th>2017-01-04</th>\n",
              "      <td>62.480000</td>\n",
              "      <td>62.750000</td>\n",
              "      <td>62.119999</td>\n",
              "      <td>62.299999</td>\n",
              "      <td>57.671337</td>\n",
              "      <td>21340000</td>\n",
              "    </tr>\n",
              "    <tr>\n",
              "      <th>2017-01-05</th>\n",
              "      <td>62.189999</td>\n",
              "      <td>62.660000</td>\n",
              "      <td>62.029999</td>\n",
              "      <td>62.299999</td>\n",
              "      <td>57.671337</td>\n",
              "      <td>24876000</td>\n",
              "    </tr>\n",
              "    <tr>\n",
              "      <th>2017-01-06</th>\n",
              "      <td>62.299999</td>\n",
              "      <td>63.150002</td>\n",
              "      <td>62.040001</td>\n",
              "      <td>62.840000</td>\n",
              "      <td>58.171215</td>\n",
              "      <td>19922900</td>\n",
              "    </tr>\n",
              "    <tr>\n",
              "      <th>2017-01-09</th>\n",
              "      <td>62.759998</td>\n",
              "      <td>63.080002</td>\n",
              "      <td>62.540001</td>\n",
              "      <td>62.639999</td>\n",
              "      <td>57.986069</td>\n",
              "      <td>20382700</td>\n",
              "    </tr>\n",
              "  </tbody>\n",
              "</table>\n",
              "</div>"
            ],
            "text/plain": [
              "                 Open       High        Low      Close  Adj Close    Volume\n",
              "Date                                                                       \n",
              "2017-01-03  62.790001  62.840000  62.130001  62.580002  57.930523  20694100\n",
              "2017-01-04  62.480000  62.750000  62.119999  62.299999  57.671337  21340000\n",
              "2017-01-05  62.189999  62.660000  62.029999  62.299999  57.671337  24876000\n",
              "2017-01-06  62.299999  63.150002  62.040001  62.840000  58.171215  19922900\n",
              "2017-01-09  62.759998  63.080002  62.540001  62.639999  57.986069  20382700"
            ]
          },
          "execution_count": 7,
          "metadata": {},
          "output_type": "execute_result"
        }
      ],
      "source": [
        "yf_data.head()"
      ]
    },
    {
      "cell_type": "code",
      "execution_count": null,
      "id": "d7097df3-fdbf-4f6e-aa06-9aaada305d57",
      "metadata": {
        "id": "d7097df3-fdbf-4f6e-aa06-9aaada305d57"
      },
      "outputs": [],
      "source": [
        "##Use the Ticker method in yfinance to get additional details"
      ]
    },
    {
      "cell_type": "code",
      "execution_count": null,
      "id": "45fc5424-0b93-4b50-8ac1-3ae143d4477d",
      "metadata": {
        "id": "45fc5424-0b93-4b50-8ac1-3ae143d4477d",
        "outputId": "801f9f93-2f62-4eaf-9f4f-0b45e7dd51dd"
      },
      "outputs": [
        {
          "data": {
            "text/plain": [
              "{'zip': '98052-6399',\n",
              " 'sector': 'Technology',\n",
              " 'fullTimeEmployees': 181000,\n",
              " 'longBusinessSummary': 'Microsoft Corporation develops, licenses, and supports software, services, devices, and solutions worldwide. Its Productivity and Business Processes segment offers Office, Exchange, SharePoint, Microsoft Teams, Office 365 Security and Compliance, and Skype for Business, as well as related Client Access Licenses (CAL); Skype, Outlook.com, OneDrive, and LinkedIn; and Dynamics 365, a set of cloud-based and on-premises business solutions for organizations and enterprise divisions. Its Intelligent Cloud segment licenses SQL, Windows Servers, Visual Studio, System Center, and related CALs; GitHub that provides a collaboration platform and code hosting service for developers; and Azure, a cloud platform. It also offers support services and Microsoft consulting services to assist customers in developing, deploying, and managing Microsoft server and desktop solutions; and training and certification on Microsoft products. Its More Personal Computing segment provides Windows original equipment manufacturer (OEM) licensing and other non-volume licensing of the Windows operating system; Windows Commercial, such as volume licensing of the Windows operating system, Windows cloud services, and other Windows commercial offerings; patent licensing; Windows Internet of Things; and MSN advertising. It also offers Surface, PC accessories, PCs, tablets, gaming and entertainment consoles, and other devices; Gaming, including Xbox hardware, and Xbox content and services; video games and third-party video game royalties; and Search, including Bing and Microsoft advertising. It sells its products through OEMs, distributors, and resellers; and directly through digital marketplaces, online stores, and retail stores. It has collaborations with Dynatrace, Inc., Morgan Stanley, Micro Focus, WPP plc, ACI Worldwide, Inc., and iCIMS, Inc., as well as strategic relationships with Avaya Holdings Corp. and wejo Limited. Microsoft Corporation was founded in 1975 and is based in Redmond, Washington.',\n",
              " 'city': 'Redmond',\n",
              " 'phone': '425 882 8080',\n",
              " 'state': 'WA',\n",
              " 'country': 'United States',\n",
              " 'companyOfficers': [],\n",
              " 'website': 'https://www.microsoft.com',\n",
              " 'maxAge': 1,\n",
              " 'address1': 'One Microsoft Way',\n",
              " 'industry': 'Software—Infrastructure',\n",
              " 'ebitdaMargins': 0.49327,\n",
              " 'profitMargins': 0.37627998,\n",
              " 'grossMargins': 0.6873,\n",
              " 'operatingCashflow': 87115997184,\n",
              " 'revenueGrowth': 0.184,\n",
              " 'operatingMargins': 0.42556,\n",
              " 'ebitda': 94982995968,\n",
              " 'targetLowPrice': 251.76,\n",
              " 'recommendationKey': 'buy',\n",
              " 'grossProfits': 115856000000,\n",
              " 'freeCashflow': 48917000192,\n",
              " 'targetMedianPrice': 350,\n",
              " 'currentPrice': 253.67,\n",
              " 'earningsGrowth': 0.094,\n",
              " 'currentRatio': 1.988,\n",
              " 'returnOnAssets': 0.15674,\n",
              " 'numberOfAnalystOpinions': 46,\n",
              " 'targetMeanPrice': 354.64,\n",
              " 'debtToEquity': 47.863,\n",
              " 'returnOnEquity': 0.48721,\n",
              " 'targetHighPrice': 500,\n",
              " 'totalCash': 104660000768,\n",
              " 'totalDebt': 77980999680,\n",
              " 'totalRevenue': 192557006848,\n",
              " 'totalCashPerShare': 13.994,\n",
              " 'financialCurrency': 'USD',\n",
              " 'revenuePerShare': 25.642,\n",
              " 'quickRatio': 1.773,\n",
              " 'recommendationMean': 1.7,\n",
              " 'exchange': 'NMS',\n",
              " 'shortName': 'Microsoft Corporation',\n",
              " 'longName': 'Microsoft Corporation',\n",
              " 'exchangeTimezoneName': 'America/New_York',\n",
              " 'exchangeTimezoneShortName': 'EDT',\n",
              " 'isEsgPopulated': False,\n",
              " 'gmtOffSetMilliseconds': '-14400000',\n",
              " 'quoteType': 'EQUITY',\n",
              " 'symbol': 'MSFT',\n",
              " 'messageBoardId': 'finmb_21835',\n",
              " 'market': 'us_market',\n",
              " 'annualHoldingsTurnover': None,\n",
              " 'enterpriseToRevenue': 10.258,\n",
              " 'beta3Year': None,\n",
              " 'enterpriseToEbitda': 20.795,\n",
              " '52WeekChange': -0.05861628,\n",
              " 'morningStarRiskRating': None,\n",
              " 'forwardEps': 10.73,\n",
              " 'revenueQuarterlyGrowth': None,\n",
              " 'sharesOutstanding': 7479029760,\n",
              " 'fundInceptionDate': None,\n",
              " 'annualReportExpenseRatio': None,\n",
              " 'totalAssets': None,\n",
              " 'bookValue': 21.773,\n",
              " 'sharesShort': 48150433,\n",
              " 'sharesPercentSharesOut': 0.0064,\n",
              " 'fundFamily': None,\n",
              " 'lastFiscalYearEnd': 1625011200,\n",
              " 'heldPercentInstitutions': 0.71904,\n",
              " 'netIncomeToCommon': 72456003584,\n",
              " 'trailingEps': 9.58,\n",
              " 'lastDividendValue': 0.62,\n",
              " 'SandP52WeekChange': -0.117819905,\n",
              " 'priceToBook': 11.650668,\n",
              " 'heldPercentInsiders': 0.00075,\n",
              " 'nextFiscalYearEnd': 1688083200,\n",
              " 'yield': None,\n",
              " 'mostRecentQuarter': 1648684800,\n",
              " 'shortRatio': 1.58,\n",
              " 'sharesShortPreviousMonthDate': 1652400000,\n",
              " 'floatShares': 7471329731,\n",
              " 'beta': 0.932311,\n",
              " 'enterpriseValue': 1975158964224,\n",
              " 'priceHint': 2,\n",
              " 'threeYearAverageReturn': None,\n",
              " 'lastSplitDate': 1045526400,\n",
              " 'lastSplitFactor': '2:1',\n",
              " 'legalType': None,\n",
              " 'lastDividendDate': 1652832000,\n",
              " 'morningStarOverallRating': None,\n",
              " 'earningsQuarterlyGrowth': 0.082,\n",
              " 'priceToSalesTrailing12Months': 9.852695,\n",
              " 'dateShortInterest': 1655251200,\n",
              " 'pegRatio': 1.77,\n",
              " 'ytdReturn': None,\n",
              " 'forwardPE': 23.641193,\n",
              " 'lastCapGain': None,\n",
              " 'shortPercentOfFloat': 0.0064,\n",
              " 'sharesShortPriorMonth': 38428490,\n",
              " 'impliedSharesOutstanding': 0,\n",
              " 'category': None,\n",
              " 'fiveYearAverageReturn': None,\n",
              " 'previousClose': 264.51,\n",
              " 'regularMarketOpen': 265.88,\n",
              " 'twoHundredDayAverage': 297.8056,\n",
              " 'trailingAnnualDividendYield': 0.009148993,\n",
              " 'payoutRatio': 0.2463,\n",
              " 'volume24Hr': None,\n",
              " 'regularMarketDayHigh': 265.93,\n",
              " 'navPrice': None,\n",
              " 'averageDailyVolume10Day': 23326510,\n",
              " 'regularMarketPreviousClose': 264.51,\n",
              " 'fiftyDayAverage': 264.143,\n",
              " 'trailingAnnualDividendRate': 2.42,\n",
              " 'open': 265.88,\n",
              " 'toCurrency': None,\n",
              " 'averageVolume10days': 23326510,\n",
              " 'expireDate': None,\n",
              " 'algorithm': None,\n",
              " 'dividendRate': 2.48,\n",
              " 'exDividendDate': 1660694400,\n",
              " 'circulatingSupply': None,\n",
              " 'startDate': None,\n",
              " 'regularMarketDayLow': 252.0403,\n",
              " 'currency': 'USD',\n",
              " 'trailingPE': 26.479124,\n",
              " 'regularMarketVolume': 35785543,\n",
              " 'lastMarket': None,\n",
              " 'maxSupply': None,\n",
              " 'openInterest': None,\n",
              " 'marketCap': 1897205465088,\n",
              " 'volumeAllCurrencies': None,\n",
              " 'strikePrice': None,\n",
              " 'averageVolume': 31419920,\n",
              " 'dayLow': 252.0403,\n",
              " 'ask': 254.2,\n",
              " 'askSize': 800,\n",
              " 'volume': 35785543,\n",
              " 'fiftyTwoWeekHigh': 349.67,\n",
              " 'fromCurrency': None,\n",
              " 'fiveYearAvgDividendYield': 1.25,\n",
              " 'fiftyTwoWeekLow': 241.51,\n",
              " 'bid': 253.86,\n",
              " 'tradeable': False,\n",
              " 'dividendYield': 0.0093,\n",
              " 'bidSize': 1000,\n",
              " 'dayHigh': 265.93,\n",
              " 'coinMarketCapLink': None,\n",
              " 'regularMarketPrice': 253.67,\n",
              " 'preMarketPrice': 265.91,\n",
              " 'logo_url': 'https://logo.clearbit.com/microsoft.com',\n",
              " 'trailingPegRatio': 1.8045}"
            ]
          },
          "execution_count": 40,
          "metadata": {},
          "output_type": "execute_result"
        }
      ],
      "source": [
        "msft = yf.Ticker(\"MSFT\")\n",
        "\n",
        "# get stock info\n",
        "msft.info\n"
      ]
    },
    {
      "cell_type": "code",
      "execution_count": null,
      "id": "fd29ebc3-3a26-4b12-b94d-4b3d1b778277",
      "metadata": {
        "id": "fd29ebc3-3a26-4b12-b94d-4b3d1b778277"
      },
      "outputs": [],
      "source": [
        "##Find out the type of object 'msft.info'"
      ]
    },
    {
      "cell_type": "code",
      "execution_count": null,
      "id": "56480f1f-f895-4bcd-bf72-fb07cf3f52f9",
      "metadata": {
        "id": "56480f1f-f895-4bcd-bf72-fb07cf3f52f9",
        "outputId": "94ba932a-63b6-4793-cfbb-a9a9f2608912"
      },
      "outputs": [
        {
          "data": {
            "text/plain": [
              "dict"
            ]
          },
          "execution_count": 46,
          "metadata": {},
          "output_type": "execute_result"
        }
      ],
      "source": [
        "type(msft.info)"
      ]
    },
    {
      "cell_type": "code",
      "execution_count": null,
      "id": "9e566637-2432-469f-8d6f-3b93647352f7",
      "metadata": {
        "id": "9e566637-2432-469f-8d6f-3b93647352f7"
      },
      "outputs": [],
      "source": [
        "##Only print values for specific fields of interest using a for loop and if conditional statement"
      ]
    },
    {
      "cell_type": "code",
      "execution_count": null,
      "id": "8948c6f1-5eae-46e2-87b4-b5b1f94223c9",
      "metadata": {
        "id": "8948c6f1-5eae-46e2-87b4-b5b1f94223c9",
        "outputId": "4201eb5b-f6c6-424c-ee4c-00d41e7a4123"
      },
      "outputs": [
        {
          "name": "stdout",
          "output_type": "stream",
          "text": [
            "sector : Technology\n",
            "regularMarketPrice : 253.67\n"
          ]
        }
      ],
      "source": [
        "fields_of_interest=[\"sector\",\"regularMarketPrice\"]\n",
        "for key in msft.info.keys():\n",
        "    if key in fields_of_interest:\n",
        "        print(\"{} : {}\".format(key,msft.info[key]))"
      ]
    },
    {
      "cell_type": "code",
      "execution_count": null,
      "id": "328994e6-68be-4222-9419-76958f97ae76",
      "metadata": {
        "id": "328994e6-68be-4222-9419-76958f97ae76"
      },
      "outputs": [],
      "source": [
        "##Store the closing values in a time series (date, price) format"
      ]
    },
    {
      "cell_type": "code",
      "execution_count": null,
      "id": "2cdbe455-fb99-4eb5-9813-ef520b179ca2",
      "metadata": {
        "id": "2cdbe455-fb99-4eb5-9813-ef520b179ca2"
      },
      "outputs": [],
      "source": [
        "adj_close_long = pd.melt(yf_data.reset_index(), id_vars='Date',\n",
        "                         value_vars='Adj Close',value_name=\"Price\")\n"
      ]
    },
    {
      "cell_type": "code",
      "execution_count": null,
      "id": "6db9d625-a1f7-4c1c-a840-9f74ad5e429e",
      "metadata": {
        "id": "6db9d625-a1f7-4c1c-a840-9f74ad5e429e"
      },
      "outputs": [],
      "source": [
        "##Print the first 5 rows"
      ]
    },
    {
      "cell_type": "code",
      "execution_count": null,
      "id": "c31941ac-0115-41b8-b179-4d88ab90aff1",
      "metadata": {
        "id": "c31941ac-0115-41b8-b179-4d88ab90aff1",
        "outputId": "5677d9c3-d888-4d90-ddbc-e20ece68470e"
      },
      "outputs": [
        {
          "data": {
            "text/html": [
              "<div>\n",
              "<style scoped>\n",
              "    .dataframe tbody tr th:only-of-type {\n",
              "        vertical-align: middle;\n",
              "    }\n",
              "\n",
              "    .dataframe tbody tr th {\n",
              "        vertical-align: top;\n",
              "    }\n",
              "\n",
              "    .dataframe thead th {\n",
              "        text-align: right;\n",
              "    }\n",
              "</style>\n",
              "<table border=\"1\" class=\"dataframe\">\n",
              "  <thead>\n",
              "    <tr style=\"text-align: right;\">\n",
              "      <th></th>\n",
              "      <th>Date</th>\n",
              "      <th>variable</th>\n",
              "      <th>Adjusted Close</th>\n",
              "    </tr>\n",
              "  </thead>\n",
              "  <tbody>\n",
              "    <tr>\n",
              "      <th>0</th>\n",
              "      <td>2017-01-03</td>\n",
              "      <td>Adj Close</td>\n",
              "      <td>57.930523</td>\n",
              "    </tr>\n",
              "    <tr>\n",
              "      <th>1</th>\n",
              "      <td>2017-01-04</td>\n",
              "      <td>Adj Close</td>\n",
              "      <td>57.671337</td>\n",
              "    </tr>\n",
              "    <tr>\n",
              "      <th>2</th>\n",
              "      <td>2017-01-05</td>\n",
              "      <td>Adj Close</td>\n",
              "      <td>57.671337</td>\n",
              "    </tr>\n",
              "    <tr>\n",
              "      <th>3</th>\n",
              "      <td>2017-01-06</td>\n",
              "      <td>Adj Close</td>\n",
              "      <td>58.171215</td>\n",
              "    </tr>\n",
              "    <tr>\n",
              "      <th>4</th>\n",
              "      <td>2017-01-09</td>\n",
              "      <td>Adj Close</td>\n",
              "      <td>57.986069</td>\n",
              "    </tr>\n",
              "  </tbody>\n",
              "</table>\n",
              "</div>"
            ],
            "text/plain": [
              "        Date   variable  Adjusted Close\n",
              "0 2017-01-03  Adj Close       57.930523\n",
              "1 2017-01-04  Adj Close       57.671337\n",
              "2 2017-01-05  Adj Close       57.671337\n",
              "3 2017-01-06  Adj Close       58.171215\n",
              "4 2017-01-09  Adj Close       57.986069"
            ]
          },
          "execution_count": 59,
          "metadata": {},
          "output_type": "execute_result"
        }
      ],
      "source": [
        "adj_close_long.head()"
      ]
    },
    {
      "cell_type": "code",
      "execution_count": null,
      "id": "4a599f51-3bf3-40c7-8307-93fdc569bda5",
      "metadata": {
        "id": "4a599f51-3bf3-40c7-8307-93fdc569bda5"
      },
      "outputs": [],
      "source": [
        "##Drop the column named \"variable\" using the drop function in pandas\n",
        "### axis=0 means rows and axis=1 means columns"
      ]
    },
    {
      "cell_type": "code",
      "execution_count": null,
      "id": "6e3a17ee-6c28-4d2c-8325-d2b2e6ed9227",
      "metadata": {
        "id": "6e3a17ee-6c28-4d2c-8325-d2b2e6ed9227"
      },
      "outputs": [],
      "source": [
        "adj_close_long=adj_close_long.drop(\"variable\",axis=1)\n",
        "adj_close_long.head()"
      ]
    },
    {
      "cell_type": "code",
      "execution_count": null,
      "id": "5d7d3550-56f2-45c5-8b22-bd640d16fb30",
      "metadata": {
        "id": "5d7d3550-56f2-45c5-8b22-bd640d16fb30"
      },
      "outputs": [],
      "source": []
    }
  ],
  "metadata": {
    "kernelspec": {
      "display_name": "Python 3 (ipykernel)",
      "language": "python",
      "name": "python3"
    },
    "language_info": {
      "codemirror_mode": {
        "name": "ipython",
        "version": 3
      },
      "file_extension": ".py",
      "mimetype": "text/x-python",
      "name": "python",
      "nbconvert_exporter": "python",
      "pygments_lexer": "ipython3",
      "version": "3.9.12"
    },
    "colab": {
      "provenance": []
    }
  },
  "nbformat": 4,
  "nbformat_minor": 5
}